{
  "cells": [
    {
      "cell_type": "markdown",
      "id": "504e1c7e",
      "metadata": {},
      "source": [
        "NUMPY"
      ]
    },
    {
      "cell_type": "code",
      "execution_count": 1,
      "id": "4b7c96cb-d0ef-43cd-bb3f-2f85d1b6cd2b",
      "metadata": {
        "trusted": true
      },
      "outputs": [
        {
          "data": {
            "text/plain": [
              "array([10, 20, 30, 40])"
            ]
          },
          "execution_count": 1,
          "metadata": {},
          "output_type": "execute_result"
        }
      ],
      "source": [
        "import numpy as np\n",
        "n1 = np.array([10, 20, 30, 40])\n",
        "n1"
      ]
    },
    {
      "cell_type": "code",
      "execution_count": 2,
      "id": "a6924f82-af98-42d2-a45c-569708ad9839",
      "metadata": {
        "trusted": true
      },
      "outputs": [
        {
          "data": {
            "text/plain": [
              "array([[0., 0.],\n",
              "       [0., 0.],\n",
              "       [0., 0.]])"
            ]
          },
          "execution_count": 2,
          "metadata": {},
          "output_type": "execute_result"
        }
      ],
      "source": [
        "import numpy as np\n",
        "n2 = np.zeros((3,2))\n",
        "n2"
      ]
    },
    {
      "cell_type": "code",
      "execution_count": 3,
      "id": "72f07f6f-9ffe-4c8f-bfac-40c9dcab42a1",
      "metadata": {
        "trusted": true
      },
      "outputs": [
        {
          "data": {
            "text/plain": [
              "array([[7, 7, 7, 7, 7],\n",
              "       [7, 7, 7, 7, 7],\n",
              "       [7, 7, 7, 7, 7],\n",
              "       [7, 7, 7, 7, 7]])"
            ]
          },
          "execution_count": 3,
          "metadata": {},
          "output_type": "execute_result"
        }
      ],
      "source": [
        "n3 = np.full((4,5), 7)\n",
        "n3"
      ]
    },
    {
      "cell_type": "code",
      "execution_count": 4,
      "id": "7e7ba525-8604-4841-9c65-ffb279cabdad",
      "metadata": {
        "trusted": true
      },
      "outputs": [
        {
          "data": {
            "text/plain": [
              "array([10, 11, 12, 13, 14, 15, 16, 17, 18, 19, 20, 21, 22, 23, 24, 25, 26,\n",
              "       27, 28, 29, 30])"
            ]
          },
          "execution_count": 4,
          "metadata": {},
          "output_type": "execute_result"
        }
      ],
      "source": [
        "n4 = np.arange(10, 31)\n",
        "n4"
      ]
    },
    {
      "cell_type": "code",
      "execution_count": 5,
      "id": "795a0fac-1b9c-486d-8195-fe4905a6eb46",
      "metadata": {
        "trusted": true
      },
      "outputs": [
        {
          "data": {
            "text/plain": [
              "array([10, 12, 14, 16, 18, 20, 22, 24, 26, 28, 30])"
            ]
          },
          "execution_count": 5,
          "metadata": {},
          "output_type": "execute_result"
        }
      ],
      "source": [
        "n5 = np.arange(10, 31, 2)\n",
        "n5"
      ]
    },
    {
      "cell_type": "code",
      "execution_count": 6,
      "id": "8a71dac5-b686-42dc-b9b0-95043d666a05",
      "metadata": {
        "trusted": true
      },
      "outputs": [
        {
          "data": {
            "text/plain": [
              "array([271, 133, 196, 127, 176,   5,  76], dtype=int32)"
            ]
          },
          "execution_count": 6,
          "metadata": {},
          "output_type": "execute_result"
        }
      ],
      "source": [
        "n5 = np.random.randint(1, 300, 7)\n",
        "n5"
      ]
    },
    {
      "cell_type": "code",
      "execution_count": 7,
      "id": "72fbbfcc-81ac-42f4-8554-f57fabdbdcc3",
      "metadata": {
        "trusted": true
      },
      "outputs": [
        {
          "data": {
            "text/plain": [
              "(2, 3)"
            ]
          },
          "execution_count": 7,
          "metadata": {},
          "output_type": "execute_result"
        }
      ],
      "source": [
        "n6 = np.array([[1,2,3],[4,5,6]])\n",
        "n6.shape"
      ]
    },
    {
      "cell_type": "code",
      "execution_count": 8,
      "id": "37df69b9-b56f-4e86-9586-df7ac015cd4b",
      "metadata": {
        "trusted": true
      },
      "outputs": [
        {
          "data": {
            "text/plain": [
              "array([[10, 20, 30],\n",
              "       [40, 50, 60]])"
            ]
          },
          "execution_count": 8,
          "metadata": {},
          "output_type": "execute_result"
        }
      ],
      "source": [
        "n7 = np.array([10, 20, 30])\n",
        "n8 = np.array([40, 50, 60])\n",
        "\n",
        "np.vstack((n7, n8))\n"
      ]
    },
    {
      "cell_type": "code",
      "execution_count": 9,
      "id": "fc6136da-ac95-4842-90aa-4060dcbbbc11",
      "metadata": {
        "trusted": true
      },
      "outputs": [
        {
          "data": {
            "text/plain": [
              "array([10, 20, 30, 40, 50, 60])"
            ]
          },
          "execution_count": 9,
          "metadata": {},
          "output_type": "execute_result"
        }
      ],
      "source": [
        "n9 = np.array([10, 20, 30])\n",
        "n10 = np.array([40, 50, 60])\n",
        "np.hstack((n7, n8))"
      ]
    },
    {
      "cell_type": "code",
      "execution_count": 10,
      "id": "84a10e54",
      "metadata": {},
      "outputs": [
        {
          "data": {
            "text/plain": [
              "array([[10, 40],\n",
              "       [20, 50],\n",
              "       [30, 60]])"
            ]
          },
          "execution_count": 10,
          "metadata": {},
          "output_type": "execute_result"
        }
      ],
      "source": [
        "n11 = np.array([10, 20, 30])\n",
        "n12 = np.array([40, 50, 60])\n",
        "np.column_stack((n7, n8))\n"
      ]
    },
    {
      "cell_type": "code",
      "execution_count": 11,
      "id": "88d532eb",
      "metadata": {},
      "outputs": [
        {
          "data": {
            "text/plain": [
              "np.int64(20)"
            ]
          },
          "execution_count": 11,
          "metadata": {},
          "output_type": "execute_result"
        }
      ],
      "source": [
        "import numpy as np\n",
        "n1=np.array([1,2,3,4])\n",
        "n2=np.array([4,3,2,1])\n",
        "np.sum((n1,n2))"
      ]
    },
    {
      "cell_type": "code",
      "execution_count": 12,
      "id": "63884aff",
      "metadata": {},
      "outputs": [
        {
          "data": {
            "text/plain": [
              "np.float64(25.0)"
            ]
          },
          "execution_count": 12,
          "metadata": {},
          "output_type": "execute_result"
        }
      ],
      "source": [
        "import numpy as np\n",
        "n1=np.array([10,20,30,40])\n",
        "np.mean(n1)"
      ]
    },
    {
      "cell_type": "code",
      "execution_count": 13,
      "id": "acb511a1",
      "metadata": {},
      "outputs": [
        {
          "data": {
            "text/plain": [
              "np.float64(11.180339887498949)"
            ]
          },
          "execution_count": 13,
          "metadata": {},
          "output_type": "execute_result"
        }
      ],
      "source": [
        "import numpy as np\n",
        "n1=np.array([10,20,30,40])\n",
        "np.std(n1)\n"
      ]
    },
    {
      "cell_type": "code",
      "execution_count": 14,
      "id": "056852df",
      "metadata": {},
      "outputs": [
        {
          "data": {
            "text/plain": [
              "np.float64(25.0)"
            ]
          },
          "execution_count": 14,
          "metadata": {},
          "output_type": "execute_result"
        }
      ],
      "source": [
        "import numpy as np\n",
        "n1=np.array([10,20,30,40])\n",
        "np.median(n1)"
      ]
    },
    {
      "cell_type": "code",
      "execution_count": 15,
      "id": "20c84a0a",
      "metadata": {},
      "outputs": [
        {
          "data": {
            "text/plain": [
              "array([10, 20, 30, 40])"
            ]
          },
          "execution_count": 15,
          "metadata": {},
          "output_type": "execute_result"
        }
      ],
      "source": [
        "n1"
      ]
    },
    {
      "cell_type": "code",
      "execution_count": 16,
      "id": "2b88b66f",
      "metadata": {},
      "outputs": [
        {
          "data": {
            "text/plain": [
              "array([10, 20, 30, 40])"
            ]
          },
          "execution_count": 16,
          "metadata": {},
          "output_type": "execute_result"
        }
      ],
      "source": [
        "n1.transpose()"
      ]
    }
  ],
  "metadata": {
    "kernelspec": {
      "display_name": "base",
      "language": "python",
      "name": "python3"
    },
    "language_info": {
      "codemirror_mode": {
        "name": "ipython",
        "version": 3
      },
      "file_extension": ".py",
      "mimetype": "text/x-python",
      "name": "python",
      "nbconvert_exporter": "python",
      "pygments_lexer": "ipython3",
      "version": "3.13.5"
    }
  },
  "nbformat": 4,
  "nbformat_minor": 5
}
